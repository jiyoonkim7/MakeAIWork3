{
  "cells": [
    {
      "cell_type": "code",
      "execution_count": null,
      "metadata": {
        "id": "U0psldGXJE0N"
      },
      "outputs": [],
      "source": [
        "# Voeg imports toe als je ze nodig hebt\n",
        "import torch.nn as nn\n",
        "from torchvision.datasets import ImageFolder\n",
        "from torch.utils.data import DataLoader, random_split\n",
        "from torchvision.transforms import ToTensor\n",
        "import torch\n",
        "import torchvision.io as tio\n",
        "import matplotlib.pyplot as plt\n",
        "\n",
        "%matplotlib inline\n"
      ]
    },
    {
      "cell_type": "code",
      "execution_count": null,
      "metadata": {
        "id": "Jb_csy46JE0R"
      },
      "outputs": [],
      "source": [
        "mylearnrate = 0.001\n",
        "batchsize = 32\n",
        "mymomentum = 0.9\n",
        "epochs = 500\n",
        "optchoice = 'sgd'\n",
        "generator1 = torch.Generator().manual_seed(42)\n",
        "inputdata = 'crop_selectnew' # choose cropped, resized128, resized224\n",
        "test_batchsize = 32 #total pictures in test\n",
        "limit = 0.001"
      ]
    },
    {
      "cell_type": "code",
      "execution_count": null,
      "metadata": {
        "colab": {
          "base_uri": "https://localhost:8080/"
        },
        "id": "3IxBlCaFJE0S",
        "outputId": "6686ddbf-04f7-4961-dd44-b137481dfdca"
      },
      "outputs": [
        {
          "output_type": "stream",
          "name": "stdout",
          "text": [
            "Using cpu device\n"
          ]
        }
      ],
      "source": [
        "device = (\n",
        "    \"cuda\"\n",
        "    if torch.cuda.is_available()\n",
        "    else \"mps\"\n",
        "    if torch.backends.mps.is_available()\n",
        "    else \"cpu\"\n",
        ")\n",
        "print(f\"Using {device} device\")\n"
      ]
    },
    {
      "cell_type": "code",
      "execution_count": null,
      "metadata": {
        "colab": {
          "base_uri": "https://localhost:8080/"
        },
        "id": "KobZJ1lpJE0U",
        "outputId": "4220795b-064e-4340-d051-667b7b7a7b5a"
      },
      "outputs": [
        {
          "output_type": "stream",
          "name": "stdout",
          "text": [
            "/content/drive/MyDrive/appel_crop_selectnew/Train\n"
          ]
        }
      ],
      "source": [
        "if inputdata == 'crop_select':\n",
        "    dataset_path = '/content/drive/MyDrive/appel_crop_select/Train'\n",
        "elif inputdata == 'crop_selectnew':\n",
        "    dataset_path = '/content/drive/MyDrive/appel_crop_selectnew/Train'\n",
        "elif inputdata == 'appel_crop':\n",
        "    dataset_path = '/content/drive/MyDrive/appel_crop/Train'\n",
        "print(dataset_path)"
      ]
    },
    {
      "cell_type": "code",
      "execution_count": null,
      "metadata": {
        "colab": {
          "base_uri": "https://localhost:8080/"
        },
        "id": "Ab7emLyoJE0W",
        "outputId": "b92a2a65-0efe-4ece-8312-733415925821"
      },
      "outputs": [
        {
          "output_type": "stream",
          "name": "stdout",
          "text": [
            "Rot_Apple 114\n",
            "Normal_Apple 75\n",
            "Blotch_Apple 116\n",
            "Scab_Apple 83\n"
          ]
        }
      ],
      "source": [
        "# get length of each folder in imagefolder dataset\n",
        "\n",
        "import os\n",
        "\n",
        "imagefolder = dataset_path\n",
        "\n",
        "for folder in os.listdir(imagefolder):\n",
        "    print(folder, len(os.listdir(os.path.join(imagefolder, folder))))\n"
      ]
    },
    {
      "cell_type": "code",
      "execution_count": null,
      "metadata": {
        "id": "l3roGUy6JE0a"
      },
      "outputs": [],
      "source": [
        "\n",
        "#If our dataset is more similar to ImageNet dataset, we can use ImageNet mean and std. ImageNet mean and std are mean=[0.485, 0.456, 0.406], std=[0.229, 0.224, 0.225]\n",
        "\n",
        "from torchvision import transforms\n",
        "\n",
        "# https://towardsdatascience.com/data-augmentations-in-torchvision-5d56d70c372e\n",
        "transform_img_normal = transforms.Compose([\n",
        "    transforms.ToTensor(),\n",
        "    # this normalisation reduces val acc -10%\n",
        "    # transforms.Normalize(mean = [0.5125,0.4667,0.4110],\n",
        "    #                      std= [0.2621,0.2501,0.2453]),\n",
        "    transforms.RandomHorizontalFlip(p=0.5),\n",
        "    transforms.RandomVerticalFlip(p=0.5),\n",
        "    transforms.RandomRotation(45),\n",
        "    #transforms.Grayscale(3) #expected is 3 channels for the model, r == g == b\n",
        "])\n",
        "\n",
        "dataset = ImageFolder(dataset_path, transform=transform_img_normal)\n"
      ]
    },
    {
      "cell_type": "code",
      "execution_count": null,
      "metadata": {
        "colab": {
          "base_uri": "https://localhost:8080/"
        },
        "id": "7AZ1kqfmJE0b",
        "outputId": "1fe2882f-234c-4fa8-eb15-b5d4d6fad569"
      },
      "outputs": [
        {
          "output_type": "execute_result",
          "data": {
            "text/plain": [
              "{'Blotch_Apple': 0, 'Normal_Apple': 1, 'Rot_Apple': 2, 'Scab_Apple': 3}"
            ]
          },
          "metadata": {},
          "execution_count": 47
        }
      ],
      "source": [
        "dataset.class_to_idx\n"
      ]
    },
    {
      "cell_type": "code",
      "execution_count": null,
      "metadata": {
        "id": "gByM7o_rJE0b"
      },
      "outputs": [],
      "source": [
        "# split in train and test\n",
        "train_size = int(0.8 * len(dataset))\n",
        "test_size = len(dataset) - train_size\n",
        "train_dataset, test_dataset = random_split(dataset, [train_size, test_size],generator=generator1)\n"
      ]
    },
    {
      "cell_type": "code",
      "execution_count": null,
      "metadata": {
        "id": "c2u51WkeJE0c"
      },
      "outputs": [],
      "source": [
        "trainloader = torch.utils.data.DataLoader(\n",
        "    train_dataset, batch_size=batchsize, shuffle=True, num_workers=2)  # numworkers parallel/subprocesses\n",
        "testloader = torch.utils.data.DataLoader(\n",
        "    test_dataset, batch_size=batchsize, shuffle=False)  # no need to shuffle when evaluating\n"
      ]
    },
    {
      "cell_type": "code",
      "execution_count": null,
      "metadata": {
        "colab": {
          "base_uri": "https://localhost:8080/"
        },
        "id": "mIpSaWpYJE0c",
        "outputId": "97d68232-a887-4148-b5fe-ad9128fedd9a"
      },
      "outputs": [
        {
          "output_type": "stream",
          "name": "stderr",
          "text": [
            "Using cache found in /root/.cache/torch/hub/pytorch_vision_main\n",
            "Downloading: \"https://download.pytorch.org/models/resnet18-f37072fd.pth\" to /root/.cache/torch/hub/checkpoints/resnet18-f37072fd.pth\n",
            "100%|██████████| 44.7M/44.7M [00:00<00:00, 250MB/s]\n"
          ]
        },
        {
          "output_type": "execute_result",
          "data": {
            "text/plain": [
              "ResNet(\n",
              "  (conv1): Conv2d(3, 64, kernel_size=(7, 7), stride=(2, 2), padding=(3, 3), bias=False)\n",
              "  (bn1): BatchNorm2d(64, eps=1e-05, momentum=0.1, affine=True, track_running_stats=True)\n",
              "  (relu): ReLU(inplace=True)\n",
              "  (maxpool): MaxPool2d(kernel_size=3, stride=2, padding=1, dilation=1, ceil_mode=False)\n",
              "  (layer1): Sequential(\n",
              "    (0): BasicBlock(\n",
              "      (conv1): Conv2d(64, 64, kernel_size=(3, 3), stride=(1, 1), padding=(1, 1), bias=False)\n",
              "      (bn1): BatchNorm2d(64, eps=1e-05, momentum=0.1, affine=True, track_running_stats=True)\n",
              "      (relu): ReLU(inplace=True)\n",
              "      (conv2): Conv2d(64, 64, kernel_size=(3, 3), stride=(1, 1), padding=(1, 1), bias=False)\n",
              "      (bn2): BatchNorm2d(64, eps=1e-05, momentum=0.1, affine=True, track_running_stats=True)\n",
              "    )\n",
              "    (1): BasicBlock(\n",
              "      (conv1): Conv2d(64, 64, kernel_size=(3, 3), stride=(1, 1), padding=(1, 1), bias=False)\n",
              "      (bn1): BatchNorm2d(64, eps=1e-05, momentum=0.1, affine=True, track_running_stats=True)\n",
              "      (relu): ReLU(inplace=True)\n",
              "      (conv2): Conv2d(64, 64, kernel_size=(3, 3), stride=(1, 1), padding=(1, 1), bias=False)\n",
              "      (bn2): BatchNorm2d(64, eps=1e-05, momentum=0.1, affine=True, track_running_stats=True)\n",
              "    )\n",
              "  )\n",
              "  (layer2): Sequential(\n",
              "    (0): BasicBlock(\n",
              "      (conv1): Conv2d(64, 128, kernel_size=(3, 3), stride=(2, 2), padding=(1, 1), bias=False)\n",
              "      (bn1): BatchNorm2d(128, eps=1e-05, momentum=0.1, affine=True, track_running_stats=True)\n",
              "      (relu): ReLU(inplace=True)\n",
              "      (conv2): Conv2d(128, 128, kernel_size=(3, 3), stride=(1, 1), padding=(1, 1), bias=False)\n",
              "      (bn2): BatchNorm2d(128, eps=1e-05, momentum=0.1, affine=True, track_running_stats=True)\n",
              "      (downsample): Sequential(\n",
              "        (0): Conv2d(64, 128, kernel_size=(1, 1), stride=(2, 2), bias=False)\n",
              "        (1): BatchNorm2d(128, eps=1e-05, momentum=0.1, affine=True, track_running_stats=True)\n",
              "      )\n",
              "    )\n",
              "    (1): BasicBlock(\n",
              "      (conv1): Conv2d(128, 128, kernel_size=(3, 3), stride=(1, 1), padding=(1, 1), bias=False)\n",
              "      (bn1): BatchNorm2d(128, eps=1e-05, momentum=0.1, affine=True, track_running_stats=True)\n",
              "      (relu): ReLU(inplace=True)\n",
              "      (conv2): Conv2d(128, 128, kernel_size=(3, 3), stride=(1, 1), padding=(1, 1), bias=False)\n",
              "      (bn2): BatchNorm2d(128, eps=1e-05, momentum=0.1, affine=True, track_running_stats=True)\n",
              "    )\n",
              "  )\n",
              "  (layer3): Sequential(\n",
              "    (0): BasicBlock(\n",
              "      (conv1): Conv2d(128, 256, kernel_size=(3, 3), stride=(2, 2), padding=(1, 1), bias=False)\n",
              "      (bn1): BatchNorm2d(256, eps=1e-05, momentum=0.1, affine=True, track_running_stats=True)\n",
              "      (relu): ReLU(inplace=True)\n",
              "      (conv2): Conv2d(256, 256, kernel_size=(3, 3), stride=(1, 1), padding=(1, 1), bias=False)\n",
              "      (bn2): BatchNorm2d(256, eps=1e-05, momentum=0.1, affine=True, track_running_stats=True)\n",
              "      (downsample): Sequential(\n",
              "        (0): Conv2d(128, 256, kernel_size=(1, 1), stride=(2, 2), bias=False)\n",
              "        (1): BatchNorm2d(256, eps=1e-05, momentum=0.1, affine=True, track_running_stats=True)\n",
              "      )\n",
              "    )\n",
              "    (1): BasicBlock(\n",
              "      (conv1): Conv2d(256, 256, kernel_size=(3, 3), stride=(1, 1), padding=(1, 1), bias=False)\n",
              "      (bn1): BatchNorm2d(256, eps=1e-05, momentum=0.1, affine=True, track_running_stats=True)\n",
              "      (relu): ReLU(inplace=True)\n",
              "      (conv2): Conv2d(256, 256, kernel_size=(3, 3), stride=(1, 1), padding=(1, 1), bias=False)\n",
              "      (bn2): BatchNorm2d(256, eps=1e-05, momentum=0.1, affine=True, track_running_stats=True)\n",
              "    )\n",
              "  )\n",
              "  (layer4): Sequential(\n",
              "    (0): BasicBlock(\n",
              "      (conv1): Conv2d(256, 512, kernel_size=(3, 3), stride=(2, 2), padding=(1, 1), bias=False)\n",
              "      (bn1): BatchNorm2d(512, eps=1e-05, momentum=0.1, affine=True, track_running_stats=True)\n",
              "      (relu): ReLU(inplace=True)\n",
              "      (conv2): Conv2d(512, 512, kernel_size=(3, 3), stride=(1, 1), padding=(1, 1), bias=False)\n",
              "      (bn2): BatchNorm2d(512, eps=1e-05, momentum=0.1, affine=True, track_running_stats=True)\n",
              "      (downsample): Sequential(\n",
              "        (0): Conv2d(256, 512, kernel_size=(1, 1), stride=(2, 2), bias=False)\n",
              "        (1): BatchNorm2d(512, eps=1e-05, momentum=0.1, affine=True, track_running_stats=True)\n",
              "      )\n",
              "    )\n",
              "    (1): BasicBlock(\n",
              "      (conv1): Conv2d(512, 512, kernel_size=(3, 3), stride=(1, 1), padding=(1, 1), bias=False)\n",
              "      (bn1): BatchNorm2d(512, eps=1e-05, momentum=0.1, affine=True, track_running_stats=True)\n",
              "      (relu): ReLU(inplace=True)\n",
              "      (conv2): Conv2d(512, 512, kernel_size=(3, 3), stride=(1, 1), padding=(1, 1), bias=False)\n",
              "      (bn2): BatchNorm2d(512, eps=1e-05, momentum=0.1, affine=True, track_running_stats=True)\n",
              "    )\n",
              "  )\n",
              "  (avgpool): AdaptiveAvgPool2d(output_size=(1, 1))\n",
              "  (fc): Linear(in_features=512, out_features=4, bias=True)\n",
              ")"
            ]
          },
          "metadata": {},
          "execution_count": 50
        }
      ],
      "source": [
        "resnetmodel = torch.hub.load(\n",
        "    \"pytorch/vision\", \"resnet18\", weights=\"IMAGENET1K_V1\")\n",
        "num_ftrs = resnetmodel.fc.in_features\n",
        "\n",
        "# Here the size of each output sample is set to 4\n",
        "resnetmodel.fc = nn.Linear(num_ftrs, 4)\n",
        "\n",
        "# Check if output size is correct\n",
        "resnetmodel.eval()\n"
      ]
    },
    {
      "cell_type": "code",
      "execution_count": null,
      "metadata": {
        "id": "je_TfqDPJE0d"
      },
      "outputs": [],
      "source": [
        "# load to CUDA\n",
        "myresnetmodel = resnetmodel.to(device)"
      ]
    },
    {
      "cell_type": "code",
      "execution_count": null,
      "metadata": {
        "colab": {
          "base_uri": "https://localhost:8080/"
        },
        "id": "OSK6pzfYJE0d",
        "outputId": "76ac974c-e80a-43de-e795-d0bc50b5e38d"
      },
      "outputs": [
        {
          "output_type": "stream",
          "name": "stdout",
          "text": [
            "optimizer = sgd\n"
          ]
        }
      ],
      "source": [
        "import torch.optim as optim\n",
        "CrossEntropyLossCriterion = nn.CrossEntropyLoss()\n",
        "#optimizer = optim.SGD(myresnetmodel.parameters(), lr=mylearnrate, momentum=mymomentum)\n",
        "if optchoice == 'adam':\n",
        "    optimizer = optim.Adam(myresnetmodel.parameters(), lr=mylearnrate)\n",
        "    print('optimizer = Adam')\n",
        "elif optchoice  == 'sgd':\n",
        "    optimizer = optim.SGD(myresnetmodel.parameters(), lr=mylearnrate, momentum=mymomentum)\n",
        "    print('optimizer = sgd')"
      ]
    },
    {
      "cell_type": "code",
      "execution_count": null,
      "metadata": {
        "colab": {
          "base_uri": "https://localhost:8080/",
          "height": 507
        },
        "id": "Cm2tnvdOJE0d",
        "outputId": "91f3dd04-64a1-4dad-d105-beef47fba8ae"
      },
      "outputs": [
        {
          "output_type": "display_data",
          "data": {
            "text/plain": [
              "<Figure size 640x480 with 0 Axes>"
            ]
          },
          "metadata": {}
        },
        {
          "output_type": "display_data",
          "data": {
            "text/plain": [
              "<Figure size 640x480 with 1 Axes>"
            ],
            "image/png": "[encoded data removed]"
          },
          "metadata": {}
        },
        {
          "output_type": "stream",
          "name": "stdout",
          "text": [
            "Early stopping\n"
          ]
        }
      ],
      "source": [
        "# Train function\n",
        "\n",
        "import realtime_graph as graph\n",
        "import gc\n",
        "\n",
        "epochresults = []\n",
        "epoch_valloss = 0\n",
        "graph.startplot()\n",
        "\n",
        "\n",
        "for epoch in range(epochs):\n",
        "\n",
        "    running_loss = 0.0\n",
        "    running_valloss = 0.0\n",
        "\n",
        "    myresnetmodel.train()\n",
        "    for idx, data in enumerate(trainloader):\n",
        "        inputs, labels = data\n",
        "        # print(inputs.shape) = torch.Size([4, 3, 32, 32])\n",
        "\n",
        "        #---load data into GPU----\n",
        "        inputs = inputs.to(device)\n",
        "        labels = labels.to(device)\n",
        "        #-------------------------\n",
        "\n",
        "        #forward pass\n",
        "        outputs = myresnetmodel.forward(inputs)\n",
        "        loss = CrossEntropyLossCriterion(outputs, labels)\n",
        "\n",
        "        optimizer.zero_grad()  # reset previous calculated loss gradients to zero\n",
        "        loss.backward() # calculate new loss gradient\n",
        "\n",
        "        optimizer.step() # update weights based on learning rate and gradients\n",
        "        running_loss += loss.item()\n",
        "\n",
        "    epoch_loss = running_loss / len(trainloader)\n",
        "\n",
        "    myresnetmodel.eval() # prep model for evaluation\n",
        "    epoch_vallos_previous = epoch_valloss\n",
        "    for idx, data in enumerate(testloader):\n",
        "        #forward pass\n",
        "        outputs = myresnetmodel.forward(inputs)\n",
        "        loss = CrossEntropyLossCriterion(outputs, labels)\n",
        "\n",
        "        optimizer.zero_grad()  # reset previous calculated loss gradients to zero\n",
        "        loss.backward() # calculate new loss gradient\n",
        "\n",
        "        # record validation loss\n",
        "        running_valloss += loss.item()\n",
        "\n",
        "\n",
        "    epoch_valloss = running_valloss / len(testloader)\n",
        "\n",
        "\n",
        "    epochresults.append([epoch_loss, epoch_valloss])\n",
        "\n",
        "\n",
        "    graph.realtimeplot(epochresults)\n",
        "\n",
        "\n",
        "    if epoch_vallos_previous-limit < epoch_valloss < epoch_vallos_previous+limit and epoch_loss<0.05:\n",
        "        print(\"Early stopping\")\n",
        "        break"
      ]
    },
    {
      "cell_type": "code",
      "execution_count": null,
      "metadata": {
        "id": "oMXewnP0JE0e"
      },
      "outputs": [],
      "source": [
        "dataset_path_test = \"/content/drive/MyDrive/appel_crop_selectnew/Test\"\n",
        "transform = ToTensor()\n",
        "dataset_test = ImageFolder(dataset_path_test, transform=transform)\n",
        "dataset_test_loader = torch.utils.data.DataLoader(\n",
        "    dataset_test, batch_size=test_batchsize, shuffle=False)"
      ]
    },
    {
      "cell_type": "code",
      "execution_count": null,
      "metadata": {
        "colab": {
          "base_uri": "https://localhost:8080/"
        },
        "id": "EyvfWENbJE0e",
        "outputId": "5f7f0bd3-d2d7-4092-bb69-9971599879c0"
      },
      "outputs": [
        {
          "output_type": "stream",
          "name": "stdout",
          "text": [
            "/content/drive/MyDrive/appel_crop_selectnew/Test\n"
          ]
        }
      ],
      "source": [
        "print(dataset_path_test)"
      ]
    },
    {
      "cell_type": "code",
      "execution_count": null,
      "metadata": {
        "colab": {
          "base_uri": "https://localhost:8080/"
        },
        "id": "JGWxNifAJE0e",
        "outputId": "4c4ee394-31df-42d2-a34c-a765c8e4ac45"
      },
      "outputs": [
        {
          "output_type": "execute_result",
          "data": {
            "text/plain": [
              "{'Blotch_Apple': 0, 'Normal_Apple': 1, 'Rot_Apple': 2, 'Scab_Apple': 3}"
            ]
          },
          "metadata": {},
          "execution_count": 56
        }
      ],
      "source": [
        "dataset_test.class_to_idx"
      ]
    },
    {
      "cell_type": "code",
      "execution_count": null,
      "metadata": {
        "colab": {
          "base_uri": "https://localhost:8080/"
        },
        "id": "-gqoHSbTJE0e",
        "outputId": "48a3ae48-4271-4706-b38e-f0b48c9b8222"
      },
      "outputs": [
        {
          "output_type": "stream",
          "name": "stdout",
          "text": [
            "Number of images: 117\n"
          ]
        }
      ],
      "source": [
        "# Get the length of the data in dataset_test_loader\n",
        "num_images = len(dataset_test_loader.dataset)\n",
        "print(f\"Number of images: {num_images}\")"
      ]
    },
    {
      "cell_type": "code",
      "execution_count": null,
      "metadata": {
        "colab": {
          "base_uri": "https://localhost:8080/"
        },
        "id": "tfeMbMZyJE0f",
        "outputId": "cda1e451-5a7d-4b5b-e9f5-52fd8e169bdd"
      },
      "outputs": [
        {
          "output_type": "stream",
          "name": "stdout",
          "text": [
            "Accuracy of the network on the test images: 77 %\n",
            "Confusion Matrix:\n",
            "[[21.  5.  2.  1.]\n",
            " [ 0. 14.  1.  0.]\n",
            " [ 0.  1. 32.  2.]\n",
            " [ 7.  4.  3. 24.]]\n",
            "117\n"
          ]
        }
      ],
      "source": [
        "from sklearn.metrics import confusion_matrix\n",
        "import numpy as np\n",
        "\n",
        "correct = 0\n",
        "total = 0\n",
        "confusion_matrix = np.zeros((4, 4))  # Initialize the confusion matrix\n",
        "\n",
        "# since we're not training, we don't need to calculate the gradients for our outputs\n",
        "with torch.no_grad():\n",
        "    #for idx, data in enumerate(dataset_test_loader):\n",
        "    for data in dataset_test_loader:\n",
        "        inputs, labels = data\n",
        "\n",
        "        # print(inputs.shape) = torch.Size([4, 3, 32, 32])\n",
        "\n",
        "        # ---load data into GPU----\n",
        "        inputs = inputs.to(device)\n",
        "        labels = labels.to(device)\n",
        "        # -------------------------\n",
        "\n",
        "        # calculate outputs by running images through the network\n",
        "        outputs = myresnetmodel.forward(inputs)\n",
        "        # the class with the highest energy is what we choose as prediction\n",
        "        _, predicted = torch.max(outputs.data, 1)\n",
        "        total += labels.size(0)\n",
        "        correct += (predicted == labels).sum().item()\n",
        "\n",
        "        # Print predicted and label values\n",
        "        #for i in range(len(labels)):\n",
        "        #   print(f\"Predicted: {predicted[i]}, Label: {labels[i]}\")\n",
        "\n",
        "        # Update confusion matrix\n",
        "        for i in range(len(labels)):\n",
        "            confusion_matrix[predicted[i]][labels[i]] += 1\n",
        "\n",
        "print(f'Accuracy of the network on the test images: {100 * correct // total} %')\n",
        "print('Confusion Matrix:')\n",
        "print(confusion_matrix)\n",
        "print(total)"
      ]
    },
    {
      "cell_type": "code",
      "execution_count": null,
      "metadata": {
        "colab": {
          "base_uri": "https://localhost:8080/"
        },
        "id": "6-zkrNMYJE0f",
        "outputId": "0cb09eb0-b168-4092-ebcd-629113626efd"
      },
      "outputs": [
        {
          "output_type": "stream",
          "name": "stdout",
          "text": [
            "Accuracy on Normal Apples:58.3%\n"
          ]
        }
      ],
      "source": [
        "width, height = confusion_matrix.shape\n",
        "normtotal = 0\n",
        "normcorrect = confusion_matrix[1][1]\n",
        "for i in range(height):\n",
        "    normtotal += confusion_matrix[i][1]\n",
        "\n",
        "accuracy_normal_apple = round((normcorrect/normtotal)*100, 1)\n",
        "\n",
        "print('Accuracy on Normal Apples:'+str(accuracy_normal_apple)+'%')"
      ]
    },
    {
      "cell_type": "code",
      "execution_count": null,
      "metadata": {
        "colab": {
          "base_uri": "https://localhost:8080/",
          "height": 486
        },
        "id": "5h75o_AkJE0g",
        "outputId": "b5ddf5d3-dbf8-434e-b58b-cd2303460e71"
      },
      "outputs": [
        {
          "output_type": "display_data",
          "data": {
            "text/plain": [
              "<Figure size 640x480 with 2 Axes>"
            ],
            "image/png": "[encoded data removed]"
          },
          "metadata": {}
        }
      ],
      "source": [
        "# Define class labels\n",
        "class_labels = ['Blotch', 'Normal', 'Rot', 'Scab']\n",
        "\n",
        "# Create a figure and axis\n",
        "fig, ax = plt.subplots()\n",
        "\n",
        "# Plot the confusion matrix as an image\n",
        "im = ax.imshow(confusion_matrix, cmap='Blues')\n",
        "\n",
        "# Add a colorbar\n",
        "cbar = ax.figure.colorbar(im, ax=ax)\n",
        "\n",
        "# Set the axis ticks and labels\n",
        "ax.set_xticks(np.arange(len(class_labels)))\n",
        "ax.set_yticks(np.arange(len(class_labels)))\n",
        "ax.set_xticklabels(class_labels, fontsize=10)\n",
        "ax.set_yticklabels(class_labels, fontsize=10)\n",
        "\n",
        "# Rotate the x-axis labels\n",
        "plt.setp(ax.get_xticklabels(), rotation=0, ha=\"center\",\n",
        "         rotation_mode=\"anchor\")\n",
        "\n",
        "# Rotate the y-axis labels\n",
        "plt.setp(ax.get_yticklabels(), rotation=90, ha=\"center\",\n",
        "         rotation_mode=\"anchor\")\n",
        "\n",
        "\n",
        "# Loop over data dimensions and create text annotations\n",
        "for i in range(len(class_labels)):\n",
        "    for j in range(len(class_labels)):\n",
        "        text = ax.text(j, i, confusion_matrix[i, j],\n",
        "                       ha=\"center\", va=\"center\", color=\"black\")\n",
        "\n",
        "# Set the title\n",
        "ax.set_title(\"Confusion Matrix: 120 Samples\")\n",
        "\n",
        "# Display axis meaning\n",
        "ax.text(0.5, -0.15, f\"True Class\", transform=ax.transAxes,\n",
        "        fontsize=12, ha='center')\n",
        "ax.text(-0.15, 0.3, f\"Predicted Class\", rotation=90, transform=ax.transAxes,\n",
        "        fontsize=12, ha='center')\n",
        "\n",
        "\n",
        "# Show the figure\n",
        "plt.tight_layout()\n",
        "plt.show()\n"
      ]
    },
    {
      "cell_type": "code",
      "execution_count": null,
      "metadata": {
        "id": "3VSIzIdZJE0g"
      },
      "outputs": [],
      "source": [
        "\n",
        "torch.save(myresnetmodel, 'apple_resnet_classifier.pt')"
      ]
    }
  ],
  "metadata": {
    "kernelspec": {
      "display_name": "Python 3",
      "name": "python3"
    },
    "language_info": {
      "codemirror_mode": {
        "name": "ipython",
        "version": 3
      },
      "file_extension": ".py",
      "mimetype": "text/x-python",
      "name": "python",
      "nbconvert_exporter": "python",
      "pygments_lexer": "ipython3",
      "version": "3.11.3"
    },
    "orig_nbformat": 4,
    "colab": {
      "provenance": [],
      "gpuType": "T4"
    },
    "accelerator": "GPU"
  },
  "nbformat": 4,
  "nbformat_minor": 0
}