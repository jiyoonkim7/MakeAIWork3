{
  "cells": [
    {
      "cell_type": "code",
      "source": [
        "# Install the library using pip\n",
        "!pip install sentence-transformers"
      ],
      "metadata": {
        "id": "OalLi1jA-W2Q",
        "colab": {
          "base_uri": "https://localhost:8080/"
        },
        "outputId": "47133116-3bd4-4816-a365-5251da8a0122"
      },
      "execution_count": 45,
      "outputs": [
        {
          "output_type": "stream",
          "name": "stdout",
          "text": [
            "Looking in indexes: https://pypi.org/simple, https://us-python.pkg.dev/colab-wheels/public/simple/\n",
            "Requirement already satisfied: sentence-transformers in /usr/local/lib/python3.10/dist-packages (2.2.2)\n",
            "Requirement already satisfied: transformers<5.0.0,>=4.6.0 in /usr/local/lib/python3.10/dist-packages (from sentence-transformers) (4.30.2)\n",
            "Requirement already satisfied: tqdm in /usr/local/lib/python3.10/dist-packages (from sentence-transformers) (4.65.0)\n",
            "Requirement already satisfied: torch>=1.6.0 in /usr/local/lib/python3.10/dist-packages (from sentence-transformers) (2.0.1+cu118)\n",
            "Requirement already satisfied: torchvision in /usr/local/lib/python3.10/dist-packages (from sentence-transformers) (0.15.2+cu118)\n",
            "Requirement already satisfied: numpy in /usr/local/lib/python3.10/dist-packages (from sentence-transformers) (1.22.4)\n",
            "Requirement already satisfied: scikit-learn in /usr/local/lib/python3.10/dist-packages (from sentence-transformers) (1.2.2)\n",
            "Requirement already satisfied: scipy in /usr/local/lib/python3.10/dist-packages (from sentence-transformers) (1.10.1)\n",
            "Requirement already satisfied: nltk in /usr/local/lib/python3.10/dist-packages (from sentence-transformers) (3.8.1)\n",
            "Requirement already satisfied: sentencepiece in /usr/local/lib/python3.10/dist-packages (from sentence-transformers) (0.1.99)\n",
            "Requirement already satisfied: huggingface-hub>=0.4.0 in /usr/local/lib/python3.10/dist-packages (from sentence-transformers) (0.15.1)\n",
            "Requirement already satisfied: filelock in /usr/local/lib/python3.10/dist-packages (from huggingface-hub>=0.4.0->sentence-transformers) (3.12.2)\n",
            "Requirement already satisfied: fsspec in /usr/local/lib/python3.10/dist-packages (from huggingface-hub>=0.4.0->sentence-transformers) (2023.6.0)\n",
            "Requirement already satisfied: requests in /usr/local/lib/python3.10/dist-packages (from huggingface-hub>=0.4.0->sentence-transformers) (2.27.1)\n",
            "Requirement already satisfied: pyyaml>=5.1 in /usr/local/lib/python3.10/dist-packages (from huggingface-hub>=0.4.0->sentence-transformers) (6.0)\n",
            "Requirement already satisfied: typing-extensions>=3.7.4.3 in /usr/local/lib/python3.10/dist-packages (from huggingface-hub>=0.4.0->sentence-transformers) (4.6.3)\n",
            "Requirement already satisfied: packaging>=20.9 in /usr/local/lib/python3.10/dist-packages (from huggingface-hub>=0.4.0->sentence-transformers) (23.1)\n",
            "Requirement already satisfied: sympy in /usr/local/lib/python3.10/dist-packages (from torch>=1.6.0->sentence-transformers) (1.11.1)\n",
            "Requirement already satisfied: networkx in /usr/local/lib/python3.10/dist-packages (from torch>=1.6.0->sentence-transformers) (3.1)\n",
            "Requirement already satisfied: jinja2 in /usr/local/lib/python3.10/dist-packages (from torch>=1.6.0->sentence-transformers) (3.1.2)\n",
            "Requirement already satisfied: triton==2.0.0 in /usr/local/lib/python3.10/dist-packages (from torch>=1.6.0->sentence-transformers) (2.0.0)\n",
            "Requirement already satisfied: cmake in /usr/local/lib/python3.10/dist-packages (from triton==2.0.0->torch>=1.6.0->sentence-transformers) (3.25.2)\n",
            "Requirement already satisfied: lit in /usr/local/lib/python3.10/dist-packages (from triton==2.0.0->torch>=1.6.0->sentence-transformers) (16.0.6)\n",
            "Requirement already satisfied: regex!=2019.12.17 in /usr/local/lib/python3.10/dist-packages (from transformers<5.0.0,>=4.6.0->sentence-transformers) (2022.10.31)\n",
            "Requirement already satisfied: tokenizers!=0.11.3,<0.14,>=0.11.1 in /usr/local/lib/python3.10/dist-packages (from transformers<5.0.0,>=4.6.0->sentence-transformers) (0.13.3)\n",
            "Requirement already satisfied: safetensors>=0.3.1 in /usr/local/lib/python3.10/dist-packages (from transformers<5.0.0,>=4.6.0->sentence-transformers) (0.3.1)\n",
            "Requirement already satisfied: click in /usr/local/lib/python3.10/dist-packages (from nltk->sentence-transformers) (8.1.3)\n",
            "Requirement already satisfied: joblib in /usr/local/lib/python3.10/dist-packages (from nltk->sentence-transformers) (1.2.0)\n",
            "Requirement already satisfied: threadpoolctl>=2.0.0 in /usr/local/lib/python3.10/dist-packages (from scikit-learn->sentence-transformers) (3.1.0)\n",
            "Requirement already satisfied: pillow!=8.3.*,>=5.3.0 in /usr/local/lib/python3.10/dist-packages (from torchvision->sentence-transformers) (8.4.0)\n",
            "Requirement already satisfied: MarkupSafe>=2.0 in /usr/local/lib/python3.10/dist-packages (from jinja2->torch>=1.6.0->sentence-transformers) (2.1.3)\n",
            "Requirement already satisfied: urllib3<1.27,>=1.21.1 in /usr/local/lib/python3.10/dist-packages (from requests->huggingface-hub>=0.4.0->sentence-transformers) (1.26.16)\n",
            "Requirement already satisfied: certifi>=2017.4.17 in /usr/local/lib/python3.10/dist-packages (from requests->huggingface-hub>=0.4.0->sentence-transformers) (2023.5.7)\n",
            "Requirement already satisfied: charset-normalizer~=2.0.0 in /usr/local/lib/python3.10/dist-packages (from requests->huggingface-hub>=0.4.0->sentence-transformers) (2.0.12)\n",
            "Requirement already satisfied: idna<4,>=2.5 in /usr/local/lib/python3.10/dist-packages (from requests->huggingface-hub>=0.4.0->sentence-transformers) (3.4)\n",
            "Requirement already satisfied: mpmath>=0.19 in /usr/local/lib/python3.10/dist-packages (from sympy->torch>=1.6.0->sentence-transformers) (1.3.0)\n"
          ]
        }
      ]
    },
    {
      "cell_type": "code",
      "source": [
        "import os\n",
        "import torch\n",
        "from torchvision.datasets import ImageFolder\n",
        "from torchvision import transforms\n",
        "from sentence_transformers import SentenceTransformer\n",
        "import random\n",
        "from sklearn.feature_extraction.text import TfidfVectorizer\n",
        "from sklearn.svm import LinearSVC\n",
        "from transformers import pipeline\n",
        "from sentence_transformers import util"
      ],
      "metadata": {
        "id": "YgenxTMMUcxr"
      },
      "execution_count": 46,
      "outputs": []
    },
    {
      "cell_type": "code",
      "source": [
        "# Mount Google Drive\n",
        "from google.colab import drive\n",
        "drive.mount('/content/drive')"
      ],
      "metadata": {
        "colab": {
          "base_uri": "https://localhost:8080/"
        },
        "id": "SoQUb4QdENR2",
        "outputId": "18b8b102-f921-4c42-ff83-4e821ceb646f"
      },
      "execution_count": 47,
      "outputs": [
        {
          "output_type": "stream",
          "name": "stdout",
          "text": [
            "Drive already mounted at /content/drive; to attempt to forcibly remount, call drive.mount(\"/content/drive\", force_remount=True).\n"
          ]
        }
      ]
    },
    {
      "cell_type": "code",
      "source": [
        "\n",
        "# Load the trained image classification model\n",
        "model_path = '/content/drive/MyDrive/apple_resnet_classifier.pt'\n",
        "device = torch.device('cuda' if torch.cuda.is_available() else 'cpu')\n",
        "model = torch.load(model_path, map_location=device)\n",
        "model.to(device)\n",
        "model.eval()\n",
        "\n",
        "# Define the image transformations\n",
        "transform_img_normal = transforms.Compose([\n",
        "    transforms.Resize((224, 224)),\n",
        "    transforms.ToTensor(),\n",
        "])\n",
        "\n",
        "# Specify the folder location\n",
        "folder_url = \"/content/drive/MyDrive/appel_crop_selectnew/Train\"\n",
        "\n",
        "# Load the dataset\n",
        "dataset = ImageFolder(folder_url, transform=transform_img_normal)\n",
        "dataset_loader = torch.utils.data.DataLoader(dataset, batch_size=50, shuffle=False)"
      ],
      "metadata": {
        "id": "XE6ZqDQOEaJV"
      },
      "execution_count": 50,
      "outputs": []
    },
    {
      "cell_type": "code",
      "source": [
        "# Function to predict the class labels\n",
        "def predict(model, data):\n",
        "    class_labels = ['Bad Apple', 'Normal Apple', 'Rot Apple', 'Scab Apple']\n",
        "    class_counts = [0, 0, 0, 0]\n",
        "\n",
        "    with torch.no_grad():\n",
        "        for inputs, labels in data:\n",
        "            inputs = inputs.to(device)\n",
        "            out = model(inputs)\n",
        "            _, predicted = torch.max(out.data, 1)\n",
        "\n",
        "            for p in predicted:\n",
        "                class_counts[p.item()] += 1\n",
        "\n",
        "    label_counts_dict = {label: count for label, count in zip(class_labels, class_counts)}\n",
        "    return label_counts_dict\n",
        "\n",
        "# Perform prediction on the dataset\n",
        "apple_counts = predict(model, dataset_loader)\n",
        "\n",
        "# Get the apple counts from the prediction result\n",
        "apple_counts = list(apple_counts.values())\n",
        "\n",
        "# Specify the desired sample size\n",
        "sample_size = int(input('Enter the sample size: '))\n",
        "\n",
        "# Randomly select test apples from available_apples\n",
        "random_test_apples = random.choices(apple_counts, k=sample_size)\n",
        "\n",
        "print('Randomly selected apples:', random_test_apples)"
      ],
      "metadata": {
        "colab": {
          "base_uri": "https://localhost:8080/"
        },
        "id": "t3v5IH4TE8am",
        "outputId": "f9781b22-9606-4d8f-d73e-fbda18c13d23"
      },
      "execution_count": 51,
      "outputs": [
        {
          "output_type": "stream",
          "name": "stdout",
          "text": [
            "Enter the sample size: 30\n",
            "Randomly selected apples: [137, 137, 62, 109, 109, 62, 62, 62, 62, 137, 80, 80, 137, 137, 109, 109, 137, 80, 137, 109, 109, 80, 62, 80, 80, 109, 80, 80, 62, 137]\n"
          ]
        }
      ]
    },
    {
      "cell_type": "code",
      "source": [
        "# Create the training data for AQL class prediction\n",
        "mylist = [\n",
        "    'aql_calculation',\n",
        "    'class_determination',\n",
        "    'The class of apples is based on the number of apples in each category.',\n",
        "    \"AQL(Acceptable Quality Limit) of class 1 is 0.4 or less than 0.4 and it can be accepted as class 1 if n(batch size) = 32 and x(the number of not Normal Apple) < 1.\",\n",
        "    \"AQL of class 2 is more than 0.4 and less than 6.5 or equal to 6.5 and it can be accepted as class 2 if n = 20 and x < 8.\",\n",
        "    \"AQL of class 3 is more than 6.5 and less than 15 or equal to 15 and it can be accepted as class 3 if n = 20 and x < 15.\",\n",
        "    \"AQL of class 4 is more than 15 and it can be class 4 if n = 20 and x >= 15.\",\n",
        "    \"The AQL class depends on the batch size and the number of not Normal Apples.\",\n",
        "    \"To determine the AQL class, compare the batch size (n) and the number of not Normal Apples (x) with the specified thresholds.\",\n",
        "]\n",
        "\n",
        "X_train = mylist[:-4] + [mylist[-3]] + [mylist[-2]] + [mylist[-1]]  # Include the additional samples\n",
        "y_train = ['class 1', 'class 2', 'class 3', 'class 4', 'Unknown', 'Unknown', 'Unknown']  # Define the corresponding classes\n",
        "\n",
        "# Filter out the unknown classes\n",
        "X_train_filtered = [x for x, y in zip(X_train, y_train) if y in ['class 1', 'class 2', 'class 3', 'class 4']]\n",
        "y_train_filtered = [y for y in y_train if y in ['class 1', 'class 2', 'class 3', 'class 4']]\n",
        "\n",
        "# Train a LinearSVC model using TF-IDF features\n",
        "vectorizer = TfidfVectorizer()\n",
        "X_train_vectorized = vectorizer.fit_transform(X_train_filtered)\n",
        "model = LinearSVC()\n",
        "model.fit(X_train_vectorized, y_train_filtered)\n",
        "\n",
        "# Use SentenceTransformer for text similarity\n",
        "sbert_model = SentenceTransformer('all-MiniLM-L6-v2')\n",
        "\n",
        "# Function to predict the AQL class based on the input text\n",
        "def predict_aql_class(input_text):\n",
        "    # Generate embeddings for the training data and the input text\n",
        "    X_train_embeddings = sbert_model.encode(X_train)\n",
        "    input_embedding = sbert_model.encode([input_text])\n",
        "\n",
        "    # Calculate the cosine similarities between the input embedding and the training embeddings\n",
        "    cosine_similarities = util.pytorch_cos_sim(input_embedding, torch.tensor(X_train_embeddings))\n",
        "    # Find the most similar training passage\n",
        "    most_similar_index = cosine_similarities.argmax().item()\n",
        "\n",
        "    # Predict the AQL class based on the index\n",
        "    predicted_class = y_train[most_similar_index]\n",
        "\n",
        "    return predicted_class\n",
        "\n"
      ],
      "metadata": {
        "id": "zFc3id5cEmVA"
      },
      "execution_count": 52,
      "outputs": []
    },
    {
      "cell_type": "code",
      "source": [
        "# Function to calculate the AQL class based on the given batch size (n) and number of not Normal Apples (x)\n",
        "def calculate_aql_class(n, x):\n",
        "    if n == 32 and x < 1:\n",
        "        return 'class 1'\n",
        "    elif n == 20 and x < 8:\n",
        "        return 'class 2'\n",
        "    elif n == 20 and x < 15:\n",
        "        return 'class 3'\n",
        "    elif n == 20 and x >= 15:\n",
        "        return 'class 4'\n",
        "    else:\n",
        "        return 'Unknown'\n",
        "\n",
        "# Get the number of files in the \"Normal_Apple\" folder\n",
        "normal_apples_folder = \"/content/drive/MyDrive/appel_crop_selectnew/Train/Normal_Apple\"\n",
        "normal_apples_count = len(os.listdir(normal_apples_folder))\n"
      ],
      "metadata": {
        "id": "-8GicOBEFOmU"
      },
      "execution_count": 53,
      "outputs": []
    },
    {
      "cell_type": "code",
      "source": [
        "# Get the number of files in the other folders\n",
        "other_apples_folder_paths = [\n",
        "    \"/content/drive/MyDrive/appel_crop_selectnew/Train/Rot_Apple\",\n",
        "    \"/content/drive/MyDrive/appel_crop_selectnew/Train/Rot_Apple\",\n",
        "    \"/content/drive/MyDrive/appel_crop_selectnew/Train/Blotch_Apple\"\n",
        "]\n",
        "\n",
        "other_apples_count = 0\n",
        "\n",
        "for folder_path in other_apples_folder_paths:\n",
        "    other_apples_count += len(os.listdir(folder_path))\n",
        "\n",
        "total_files = normal_apples_count + other_apples_count\n",
        "\n",
        "percentage_normal = (normal_apples_count / total_files) * 100 if total_files > 0 else 0.0\n",
        "\n",
        "print(\"Total Files:\", total_files)\n",
        "print(\"Normal Apples Count:\", normal_apples_count)\n",
        "print(\"Other Apples Count:\", other_apples_count)\n",
        "print(\"Percentage of Normal Apples:\", percentage_normal)"
      ],
      "metadata": {
        "colab": {
          "base_uri": "https://localhost:8080/"
        },
        "id": "glaanfkcFIqM",
        "outputId": "79955acd-e8bb-482c-e86d-3d61463bf8a1"
      },
      "execution_count": 54,
      "outputs": [
        {
          "output_type": "stream",
          "name": "stdout",
          "text": [
            "Total Files: 419\n",
            "Normal Apples Count: 75\n",
            "Other Apples Count: 344\n",
            "Percentage of Normal Apples: 17.899761336515514\n"
          ]
        }
      ]
    },
    {
      "cell_type": "code",
      "source": [
        "# Chat loop\n",
        "counter = 0\n",
        "\n",
        "while counter < 10:\n",
        "    # Generate a random number of not Normal Apples (x) and batch size (n)\n",
        "    x = random.randint(20, 38)\n",
        "    n = random.choice([20, 32])\n",
        "\n",
        "    # Generate an input question about the AQL class using the random values\n",
        "    input_question = f\"The batch has {x} not Normal Apples. What is the AQL class if the batch size is {n}?\"\n",
        "\n",
        "    # Get the predicted AQL class using the text similarity model\n",
        "    predicted_class = predict_aql_class(input_question)\n",
        "\n",
        "    # Calculate the AQL class based on the random values\n",
        "    calculated_class = calculate_aql_class(n, x)\n",
        "\n",
        "    # Print the input question, predicted AQL class, and calculated AQL class\n",
        "    print(\"Input Question:\", input_question)\n",
        "    print(\"Predicted AQL Class:\", predicted_class)\n",
        "    print(\"Calculated AQL Class:\", calculated_class)\n",
        "    print(\"-\" * 50)\n",
        "    counter += 1\n"
      ],
      "metadata": {
        "colab": {
          "base_uri": "https://localhost:8080/"
        },
        "id": "CDvVMHCbEzFc",
        "outputId": "718ff741-e8a7-45a7-e600-250abfa11069"
      },
      "execution_count": 55,
      "outputs": [
        {
          "output_type": "stream",
          "name": "stdout",
          "text": [
            "Input Question: The batch has 32 not Normal Apples. What is the AQL class if the batch size is 20?\n",
            "Predicted AQL Class: Unknown\n",
            "Calculated AQL Class: class 4\n",
            "--------------------------------------------------\n",
            "Input Question: The batch has 21 not Normal Apples. What is the AQL class if the batch size is 32?\n",
            "Predicted AQL Class: Unknown\n",
            "Calculated AQL Class: Unknown\n",
            "--------------------------------------------------\n",
            "Input Question: The batch has 27 not Normal Apples. What is the AQL class if the batch size is 32?\n",
            "Predicted AQL Class: Unknown\n",
            "Calculated AQL Class: Unknown\n",
            "--------------------------------------------------\n",
            "Input Question: The batch has 26 not Normal Apples. What is the AQL class if the batch size is 32?\n",
            "Predicted AQL Class: Unknown\n",
            "Calculated AQL Class: Unknown\n",
            "--------------------------------------------------\n",
            "Input Question: The batch has 34 not Normal Apples. What is the AQL class if the batch size is 20?\n",
            "Predicted AQL Class: Unknown\n",
            "Calculated AQL Class: class 4\n",
            "--------------------------------------------------\n",
            "Input Question: The batch has 37 not Normal Apples. What is the AQL class if the batch size is 20?\n",
            "Predicted AQL Class: Unknown\n",
            "Calculated AQL Class: class 4\n",
            "--------------------------------------------------\n",
            "Input Question: The batch has 27 not Normal Apples. What is the AQL class if the batch size is 32?\n",
            "Predicted AQL Class: Unknown\n",
            "Calculated AQL Class: Unknown\n",
            "--------------------------------------------------\n",
            "Input Question: The batch has 37 not Normal Apples. What is the AQL class if the batch size is 20?\n",
            "Predicted AQL Class: Unknown\n",
            "Calculated AQL Class: class 4\n",
            "--------------------------------------------------\n",
            "Input Question: The batch has 30 not Normal Apples. What is the AQL class if the batch size is 32?\n",
            "Predicted AQL Class: Unknown\n",
            "Calculated AQL Class: Unknown\n",
            "--------------------------------------------------\n",
            "Input Question: The batch has 32 not Normal Apples. What is the AQL class if the batch size is 20?\n",
            "Predicted AQL Class: Unknown\n",
            "Calculated AQL Class: class 4\n",
            "--------------------------------------------------\n"
          ]
        }
      ]
    }
  ],
  "metadata": {
    "colab": {
      "provenance": [],
      "gpuType": "T4"
    },
    "kernelspec": {
      "display_name": "Python 3",
      "name": "python3"
    },
    "language_info": {
      "codemirror_mode": {
        "name": "ipython",
        "version": 3
      },
      "file_extension": ".py",
      "mimetype": "text/x-python",
      "name": "python",
      "nbconvert_exporter": "python",
      "pygments_lexer": "ipython3",
      "version": "3.10.11"
    },
    "accelerator": "GPU"
  },
  "nbformat": 4,
  "nbformat_minor": 0
}