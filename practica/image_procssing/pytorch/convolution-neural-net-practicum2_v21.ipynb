{
 "cells": [
  {
   "attachments": {},
   "cell_type": "markdown",
   "id": "e2ad83ef-4ee3-4463-9b5e-127f12237363",
   "metadata": {},
   "source": [
    "<a href=\"https://it-omscholing.nl/locaties/hogeschool-rotterdam/\">\n",
    "<div>\n",
    "<a><img src='../../pics/banner.PNG'/></a>\n",
    "</div>\n",
    "<div>\n",
    "<a href=''><img src='../../pics/miw.PNG'/></a>\n",
    "</div>\n",
    "</a>"
   ]
  },
  {
   "attachments": {},
   "cell_type": "markdown",
   "id": "cf243b00-2d08-48b7-85cf-b9f2c288d81d",
   "metadata": {},
   "source": [
    "# Practicum Convolution Neural Nets (CNN) Deel 2\n",
    "\n",
    "**Doel: Toepassen Convolutional Neural Networks**"
   ]
  },
  {
   "attachments": {},
   "cell_type": "markdown",
   "id": "1f0beb08-683b-4d1a-8a3b-7c2938aef74f",
   "metadata": {},
   "source": [
    "### Imports"
   ]
  },
  {
   "cell_type": "code",
   "execution_count": 1,
   "id": "10f2ed2f-2d11-4d51-a10f-02ff61588ea4",
   "metadata": {},
   "outputs": [],
   "source": [
    "import matplotlib.pyplot as plt\n",
    "import numpy as np\n",
    "import torchvision\n",
    "import torchvision.transforms.functional as TF\n",
    "import torchvision.transforms as T\n",
    "from torchvision.io import ImageReadMode\n",
    "from torchvision.io import read_image\n",
    "from torch import nn\n",
    "from torch.utils.data import Dataset, DataLoader\n",
    "import matplotlib.pyplot as plt\n",
    "\n",
    "import torch\n",
    "import random\n"
   ]
  },
  {
   "attachments": {},
   "cell_type": "markdown",
   "id": "ef8f9f9b-8024-493f-aa94-b6eb3ad10184",
   "metadata": {
    "tags": []
   },
   "source": [
    "<h3>Globale variabelen</h3>"
   ]
  },
  {
   "cell_type": "code",
   "execution_count": 2,
   "id": "bbae222e-fc69-47b6-bb65-ad38f29c38ee",
   "metadata": {},
   "outputs": [],
   "source": [
    "forestDirectory = '../../pics/2750/Forest'\n",
    "industrialDirectory = '../../pics/2750/Industrial'"
   ]
  },
  {
   "attachments": {},
   "cell_type": "markdown",
   "id": "ab893eb4-4667-409f-9f7d-1f2e708be670",
   "metadata": {},
   "source": [
    "### Context\n",
    "\n",
    "<p>\n",
    "Dit practicum bestaat uit twee onderdelen\n",
    "<ol>\n",
    "    <li>Het toepassen van een convolutie en pooling filter</li>\n",
    "    <li><b>Het bouwen en trainen van een eenvoudig convolutional neural net dat een industrieterrein van een bos kan onderscheiden.</b></li>\n",
    "</ol>    \n",
    "Voor beide oefeningen gebruiken we de EuroSAT_RGB dataset\n",
    "</p>\n",
    "\n",
    "<img src='../../pics/eurosat_cnn.png' length=65% width=65%>"
   ]
  },
  {
   "attachments": {},
   "cell_type": "markdown",
   "id": "5305365c-a61c-4dea-adf8-2e9dddef9b82",
   "metadata": {},
   "source": [
    "<h3>Data Collection</h3>\n",
    "<p>\n",
    "We gebruiken Images uit de <a href=\"https://github.com/phelber/EuroSAT\">EuroSat dataset</a> die gemaakt zijn met de Sentinel-2 sateliet. Elke image is een 64x64 pixels foto van Europees aardoppervlak op een hoogte van 10 meter. De images zijn te categoriseren in Highway, Industrial, Pasture, PermanentCrop, Residential, River en SeaLake.\n",
    "</p>\n",
    "<img src=../../pics/eurosat_overview_small.jpg length=40% width=40%>\n",
    "<p>\n",
    "Download <a href=\"http://madm.dfki.de/files/sentinel/EuroSAT.zip\">EuroSAT.zip</a> en kopieer daaruit de directory 2750 naar opdrachten/practica/pics.      \n",
    "<strong>Voeg het pad naar de directory 2750 toe aan .gitignore zodat je de plaatjes niet naar je remote git repository pusht</strong>\n",
    "</p>    "
   ]
  },
  {
   "attachments": {},
   "cell_type": "markdown",
   "id": "5da250e7-2075-411c-b097-6bf232981619",
   "metadata": {
    "tags": []
   },
   "source": [
    "## Opdrachten"
   ]
  },
  {
   "attachments": {},
   "cell_type": "markdown",
   "id": "ff0b72b5-c897-46c1-bef7-033a0881f548",
   "metadata": {},
   "source": [
    "### Opdracht 3: pooling uitvoeren\n",
    "\n",
    "Met PyTorch Functional kunnen we ook een pooling filter toepassen."
   ]
  },
  {
   "cell_type": "code",
   "execution_count": 3,
   "id": "d6f53fec-ed8d-4e61-9bd5-66b9b4aa3c87",
   "metadata": {},
   "outputs": [
    {
     "name": "stdout",
     "output_type": "stream",
     "text": [
      "torch.Size([1, 64, 64])\n",
      "torch.Size([1, 64, 64])\n"
     ]
    }
   ],
   "source": [
    "# Eerst de afbeeldingen weer inladen\n",
    "industrial = torchvision.io.read_image(f'{industrialDirectory}/Industrial_1.jpg', ImageReadMode.GRAY).float() / 255\n",
    "\n",
    "i=random.randint(0,2500)\n",
    "forest = torchvision.io.read_image(f'{forestDirectory}/Forest_{i}.jpg', ImageReadMode.GRAY).float() / 255\n",
    "\n",
    "forest1 = torchvision.io.read_image(f'{forestDirectory}/Forest_1.jpg', ImageReadMode.GRAY).float() / 255\n",
    "\n",
    "\n",
    "print(industrial.shape)\n",
    "print(forest.shape)"
   ]
  },
  {
   "cell_type": "code",
   "execution_count": 4,
   "id": "84a85a20-7ca7-49c2-a309-19044ddd6bf0",
   "metadata": {
    "collapsed": true,
    "jupyter": {
     "outputs_hidden": true
    },
    "tags": []
   },
   "outputs": [
    {
     "name": "stdout",
     "output_type": "stream",
     "text": [
      "torch.Size([1, 62, 62])\n",
      "torch.Size([1, 62, 62])\n"
     ]
    }
   ],
   "source": [
    "# a. Bekijk de pooling opties en kies de juiste avg-variant\n",
    "# https://pytorch.org/docs/stable/nn.functional.html\n",
    "# https://pytorch.org/docs/stable/generated/torch.nn.functional.avg_pool2d.html#torch.nn.functional.avg_pool2d\n",
    "\n",
    "# b. Pas pooling toe op de afbeelding 'Industrial_1.jpg':\n",
    "\n",
    "#    - Kies een 3x3 kernel en een stride van 1\n",
    "industrialPooled = torch.nn.functional.avg_pool2d(industrial, kernel_size=3, stride=1)\n",
    "print(industrialPooled.shape)\n",
    "\n",
    "# c. Herhaal de bovenstaande stappen voor een willekeure Forest Image\n",
    "forestPooled = torch.nn.functional.avg_pool2d(forest, kernel_size=3, stride=1)\n",
    "print(forestPooled.shape)"
   ]
  },
  {
   "cell_type": "code",
   "execution_count": 5,
   "id": "b5b96d7b-bfc4-44bf-ac68-01bece666f5c",
   "metadata": {
    "collapsed": true,
    "jupyter": {
     "outputs_hidden": true
    }
   },
   "outputs": [],
   "source": [
    "# alternatief: er is ook torch.nn.AvgPool2d maar met andere parameters en dan werkt bovenstaande code niet."
   ]
  },
  {
   "attachments": {},
   "cell_type": "markdown",
   "id": "36a09543-15ad-4222-9051-5aa536955c3b",
   "metadata": {},
   "source": [
    "### Reflectie\n",
    "\n",
    "Komt de visuele uitkomst overeen met je verwachtingen?"
   ]
  },
  {
   "cell_type": "code",
   "execution_count": 6,
   "id": "31b3ea50-3230-41eb-b951-7bba33014196",
   "metadata": {
    "collapsed": true,
    "jupyter": {
     "outputs_hidden": true
    }
   },
   "outputs": [
    {
     "data": {
      "image/png": "[encoded data removed]",
      "text/plain": [
       "<Figure size 640x480 with 1 Axes>"
      ]
     },
     "metadata": {},
     "output_type": "display_data"
    }
   ],
   "source": [
    "plt.imshow(industrialPooled.permute(1, 2, 0));"
   ]
  },
  {
   "cell_type": "code",
   "execution_count": 7,
   "id": "9ce6a8cc-892b-440b-b512-2e01e865ecb0",
   "metadata": {
    "collapsed": true,
    "jupyter": {
     "outputs_hidden": true
    }
   },
   "outputs": [
    {
     "data": {
      "image/png": "[encoded data removed]",
      "text/plain": [
       "<Figure size 640x480 with 1 Axes>"
      ]
     },
     "metadata": {},
     "output_type": "display_data"
    }
   ],
   "source": [
    "plt.imshow(forestPooled.permute(1, 2, 0));"
   ]
  },
  {
   "cell_type": "code",
   "execution_count": 8,
   "id": "e75fe4ef-1016-4e0a-8657-8b662c58cc92",
   "metadata": {
    "collapsed": true,
    "jupyter": {
     "outputs_hidden": true
    },
    "tags": []
   },
   "outputs": [],
   "source": [
    "# Extra: varieer de stride en de kernel"
   ]
  },
  {
   "attachments": {},
   "cell_type": "markdown",
   "id": "4b93dbb9-53e0-4afa-b83b-70028c73f30f",
   "metadata": {},
   "source": [
    "### Reflectie\n",
    "\n",
    "Wat is de invloed van padding en stride op de uitkomst?"
   ]
  },
  {
   "attachments": {},
   "cell_type": "markdown",
   "id": "2054047a-79ca-4fe0-bd17-2de8ded73320",
   "metadata": {},
   "source": [
    "### Opdracht 4: convolutie en pooling combineren\n",
    "\n",
    "Een convolutional neural net combineert afwisselend convolutie en pooling in de eerste lagen.\n",
    "\n",
    "We kunnen nu het effect van deze combinatie onderzoeken:\n",
    "\n",
    "- Convolutie\n",
    "- Pooling"
   ]
  },
  {
   "cell_type": "code",
   "execution_count": 9,
   "id": "0266c837-6e9b-4e43-9537-bc576e45df45",
   "metadata": {
    "collapsed": true,
    "jupyter": {
     "outputs_hidden": true
    },
    "tags": []
   },
   "outputs": [],
   "source": [
    "# a. Bedenk en maak zelf een 2d convolution filter\n",
    "# met 2,0,-2 maak je er een Sobel kernel van\n",
    "edgeFilter3 = torch.Tensor(\n",
    "        [\n",
    "            [1, 0, -1], \n",
    "            [3, 0, -3], \n",
    "            [1, 0, -1]\n",
    "        ]\n",
    ").unsqueeze(0).unsqueeze(0)\n",
    "\n",
    "# dit kan je weglaten, dan pakt torch de deafult en die is random"
   ]
  },
  {
   "cell_type": "code",
   "execution_count": 10,
   "id": "7982025f-bcdc-4ce1-9b71-645f4becdbc6",
   "metadata": {
    "collapsed": true,
    "jupyter": {
     "outputs_hidden": true
    }
   },
   "outputs": [
    {
     "name": "stdout",
     "output_type": "stream",
     "text": [
      "torch.Size([1, 30, 30])\n",
      "torch.Size([1, 30, 30])\n"
     ]
    }
   ],
   "source": [
    "# b. Bedenk en maak zelf een 2d pooling filter\n",
    "industrialPooled5 = torch.nn.functional.avg_pool2d(industrial, kernel_size=5, stride=2)\n",
    "print(industrialPooled5.shape)\n",
    "\n",
    "forestPooled5 = torch.nn.functional.avg_pool2d(forest1, kernel_size=5, stride=2)\n",
    "print(industrialPooled5.shape)"
   ]
  },
  {
   "cell_type": "code",
   "execution_count": 11,
   "id": "4ac9db18-7172-4b03-bd26-2b9b3c391f23",
   "metadata": {
    "collapsed": true,
    "jupyter": {
     "outputs_hidden": true
    }
   },
   "outputs": [],
   "source": [
    "# c. Pas nu de convolutie toe op 'Industrial_1.jpg'\n",
    "edgeFilter3.requires_grad = True\n",
    "\n",
    "edgeConv3 = torch.nn.Conv2d(1, 1, kernel_size=3, stride=1, padding=0) \n",
    "\n",
    "with torch.no_grad():\n",
    "    edgeConv3.weight = nn.Parameter(edgeFilter3)\n",
    "    \n",
    "industrialFiltered3 = edgeConv3(industrial)\n",
    "forestFiltered3 = edgeConv3(forest1)\n"
   ]
  },
  {
   "cell_type": "code",
   "execution_count": 12,
   "id": "3f317971-e977-418e-a0a2-7700c2d07579",
   "metadata": {
    "collapsed": true,
    "jupyter": {
     "outputs_hidden": true
    }
   },
   "outputs": [],
   "source": [
    "# alternatief: gebruik torch.nn.functional.conv2d\n",
    "# geeft een foutmelding want verwacht andere parameters\n",
    "\n",
    "# Wat is het verschil tussen nn.Method() en nn.functional.method() ???\n",
    "\n",
    "# torch.nn.Conv2d: je maakt een klasse aan en doet daar nog niets mee\n",
    "\n",
    "# torch.nn.functional.conv2d is een functie en daar doe je meteen iets mee\n"
   ]
  },
  {
   "cell_type": "code",
   "execution_count": 13,
   "id": "d1ea0173-6ab2-495b-9858-958cba683a0f",
   "metadata": {
    "collapsed": true,
    "jupyter": {
     "outputs_hidden": true
    }
   },
   "outputs": [
    {
     "name": "stdout",
     "output_type": "stream",
     "text": [
      "torch.Size([1, 29, 29])\n",
      "torch.Size([1, 29, 29])\n"
     ]
    }
   ],
   "source": [
    "# d. Pas vervolgens een pooling toe op de uitkomst van c.\n",
    "industrialPooled5 = torch.nn.functional.avg_pool2d(industrialFiltered3, kernel_size=5, stride=2)\n",
    "print(industrialPooled5.shape)\n",
    "\n",
    "forestPooled5 = torch.nn.functional.avg_pool2d(forestFiltered3, kernel_size=5, stride=2)\n",
    "print(industrialPooled5.shape)"
   ]
  },
  {
   "cell_type": "code",
   "execution_count": 14,
   "id": "845e9736-95dc-40ea-a5cf-080215f8a187",
   "metadata": {
    "collapsed": true,
    "jupyter": {
     "outputs_hidden": true
    }
   },
   "outputs": [],
   "source": [
    "# e. Doe hetzelfde voor de afbeelding 'Forest_1.jpg'\n",
    "# zie boven"
   ]
  },
  {
   "cell_type": "code",
   "execution_count": 15,
   "id": "3407c350-62ff-4fff-9867-0b3456a934b2",
   "metadata": {
    "collapsed": true,
    "jupyter": {
     "outputs_hidden": true
    }
   },
   "outputs": [],
   "source": [
    "# Function for plotting the images\n",
    "def plotImgs(lImg, rImg):\n",
    "    plt.style.use('dark_background') \n",
    "    plt.rcParams[\"font.size\"] = 10\n",
    "    plt.rcParams[\"figure.figsize\"] = (10, 7)\n",
    "\n",
    "    fig, (axL, axR) = plt.subplots(ncols=2, constrained_layout=True)\n",
    "    \n",
    "    imL = axL.imshow(np.squeeze(lImg))\n",
    "    imR = axR.imshow(np.squeeze(rImg))"
   ]
  },
  {
   "cell_type": "code",
   "execution_count": 16,
   "id": "f76a7f85-b661-46d5-a078-19c64a610c31",
   "metadata": {
    "collapsed": true,
    "jupyter": {
     "outputs_hidden": true
    }
   },
   "outputs": [
    {
     "data": {
      "image/png": "[encoded data removed]",
      "text/plain": [
       "<Figure size 1000x700 with 2 Axes>"
      ]
     },
     "metadata": {},
     "output_type": "display_data"
    }
   ],
   "source": [
    "# Squeeze and detach to plot image.\n",
    "industrialPooled5_1 = torch.Tensor.detach(industrialPooled5)\n",
    "plotImgs(industrial, industrialPooled5_1)"
   ]
  },
  {
   "cell_type": "code",
   "execution_count": 17,
   "id": "b8736ad1-e6af-408e-8539-d1b0a8e0dd11",
   "metadata": {
    "collapsed": true,
    "jupyter": {
     "outputs_hidden": true
    }
   },
   "outputs": [
    {
     "data": {
      "image/png": "[encoded data removed]",
      "text/plain": [
       "<Figure size 1000x700 with 2 Axes>"
      ]
     },
     "metadata": {},
     "output_type": "display_data"
    }
   ],
   "source": [
    "# Squeeze and detach to plot image.\n",
    "forestPooled5_1 = torch.Tensor.detach(forestPooled5)\n",
    "plotImgs(forest, forestPooled5_1)"
   ]
  },
  {
   "attachments": {},
   "cell_type": "markdown",
   "id": "d444bfc7-3460-427d-b6a3-2f498ef2813e",
   "metadata": {},
   "source": [
    "### Reflectie\n",
    "\n",
    "- Verschilt de uitkomst veel van de combinatie veel met convolutie en pooling?\n",
    "- En zijn de afbeeldingen 'Industrial_1.jpg' en 'Forrest_1.jpg' beter te onderscheiden?"
   ]
  },
  {
   "cell_type": "code",
   "execution_count": 18,
   "id": "e43c29fd-3908-4d3b-8cb3-694f8c717c2c",
   "metadata": {
    "collapsed": true,
    "jupyter": {
     "outputs_hidden": true
    }
   },
   "outputs": [
    {
     "name": "stdout",
     "output_type": "stream",
     "text": [
      "torch.Size([1, 12, 12])\n",
      "torch.Size([1, 12, 12])\n"
     ]
    }
   ],
   "source": [
    "# Extra: bereid de combinatie uit met nog een extra convolutie en pooling laag\n",
    "\n",
    "industrialFiltered3_2 = edgeConv3(industrialPooled5)\n",
    "forestFiltered3_2 = edgeConv3(forestPooled5)\n",
    "\n",
    "industrialPooled5_2 = torch.nn.functional.avg_pool2d(industrialFiltered3_2, kernel_size=5, stride=2)\n",
    "print(industrialPooled5_2.shape)\n",
    "\n",
    "forestPooled5_2 = torch.nn.functional.avg_pool2d(forestFiltered3_2, kernel_size=5, stride=2)\n",
    "print(industrialPooled5_2.shape)"
   ]
  },
  {
   "cell_type": "code",
   "execution_count": 19,
   "id": "73b77b3b-71e5-4276-ad38-e7b4275957ff",
   "metadata": {
    "collapsed": true,
    "jupyter": {
     "outputs_hidden": true
    },
    "scrolled": true
   },
   "outputs": [
    {
     "data": {
      "image/png": "[encoded data removed]",
      "text/plain": [
       "<Figure size 1000x700 with 2 Axes>"
      ]
     },
     "metadata": {},
     "output_type": "display_data"
    }
   ],
   "source": [
    "industrialPooled5_2 = torch.Tensor.detach(industrialPooled5_2)\n",
    "plotImgs(industrial, industrialPooled5_2)"
   ]
  },
  {
   "cell_type": "code",
   "execution_count": 20,
   "id": "e7657d06-94e0-448b-866c-a3fc59d275d2",
   "metadata": {
    "collapsed": true,
    "jupyter": {
     "outputs_hidden": true
    }
   },
   "outputs": [
    {
     "data": {
      "image/png": "[encoded data removed]",
      "text/plain": [
       "<Figure size 1000x700 with 2 Axes>"
      ]
     },
     "metadata": {},
     "output_type": "display_data"
    }
   ],
   "source": [
    "forestPooled5_2 = torch.Tensor.detach(forestPooled5_2)\n",
    "plotImgs(forest, forestPooled5_2)"
   ]
  },
  {
   "attachments": {},
   "cell_type": "markdown",
   "id": "d8243671-21a0-45b2-883a-6c9ab35756f1",
   "metadata": {},
   "source": [
    "### Reflectie\n",
    "\n",
    "Heeft een extra laag veel invloed op de onderscheidbaarheid van de afbeeldingen?"
   ]
  },
  {
   "attachments": {},
   "cell_type": "markdown",
   "id": "fd748ec9-c052-43ba-8a7f-110e47542d92",
   "metadata": {},
   "source": [
    "### Opdracht 5: dataset prepareren\n",
    "\n",
    "Om het neurale netwerk te trainen moeten we de dataset opsplitsen in labels (Y, de categoriën) en input afbeeldingen (X)."
   ]
  },
  {
   "cell_type": "code",
   "execution_count": 21,
   "id": "5563c265-e471-4f8b-a388-4da8229c5067",
   "metadata": {
    "collapsed": true,
    "jupyter": {
     "outputs_hidden": true
    },
    "tags": []
   },
   "outputs": [],
   "source": [
    "# a. Denk nog eens terug aan hoe we kruisjes van rondjes van elkaar konden onderscheiden\n",
    "\n",
    "#    - Hoe representeerden we de labels? \n",
    "# output, klasses 0 en 1\n",
    "\n",
    "#    - Hoe representeerden we de kruisjes en de rondjes? \n",
    "# input, features\n",
    "\n",
    "#    - Hoe combineerden we dit tot een dataset? \n",
    "# lijst van inputs en lijst van outputs\n",
    "\n",
    "# b. Hoe kunnen we de labels 'Industrial' en 'Forest' dus representeren?\n",
    "# Industrial -> 0\n",
    "# Forest -> 1\n",
    "\n"
   ]
  },
  {
   "cell_type": "code",
   "execution_count": 22,
   "id": "78a1d0b9-293e-437f-bd29-d26ae1121178",
   "metadata": {
    "collapsed": true,
    "jupyter": {
     "outputs_hidden": true
    }
   },
   "outputs": [],
   "source": [
    "# c. Vorm nu een dataset voor 'Industrial' en 'Forest'\n"
   ]
  },
  {
   "cell_type": "code",
   "execution_count": 23,
   "id": "695c9628-d562-49f3-9ebc-1a47e5d0db0f",
   "metadata": {},
   "outputs": [],
   "source": [
    "import os"
   ]
  },
  {
   "cell_type": "code",
   "execution_count": 24,
   "id": "4a72066a-4a85-4f13-9f31-b12e1f237801",
   "metadata": {},
   "outputs": [],
   "source": [
    "\n",
    "listOfTensors = []\n",
    "outputLabels = []\n",
    "\n",
    "for filename in os.listdir(industrialDirectory):\n",
    "    imgFile = os.path.join(industrialDirectory, filename)\n",
    "\n",
    "    if \".jpg\" in imgFile:\n",
    "    \n",
    "        listOfTensors.append(torchvision.io.read_image(imgFile, mode=ImageReadMode.UNCHANGED).to(torch.float32)/255)\n",
    "        outputLabels.append(torch.Tensor([0,1]))\n",
    "        \n",
    "for filename in os.listdir(forestDirectory):\n",
    "    imgFile = os.path.join(forestDirectory, filename)\n",
    "\n",
    "    if \".jpg\" in imgFile:\n",
    "       \n",
    "        listOfTensors.append(torchvision.io.read_image(imgFile, mode=ImageReadMode.UNCHANGED).to(torch.float32)/255)\n",
    "        outputLabels.append(torch.Tensor([0,1]))\n",
    "        "
   ]
  },
  {
   "cell_type": "code",
   "execution_count": 25,
   "id": "8cdb3626-07e8-492e-bf76-54aa34083140",
   "metadata": {},
   "outputs": [
    {
     "name": "stdout",
     "output_type": "stream",
     "text": [
      "tensor([0., 1.])\n"
     ]
    }
   ],
   "source": [
    "print(outputLabels[0])"
   ]
  },
  {
   "cell_type": "code",
   "execution_count": 26,
   "id": "434b39c0-955a-45c7-b62a-841b765a72ff",
   "metadata": {},
   "outputs": [
    {
     "ename": "NameError",
     "evalue": "name 'listOfFileNames' is not defined",
     "output_type": "error",
     "traceback": [
      "\u001b[1;31m---------------------------------------------------------------------------\u001b[0m",
      "\u001b[1;31mNameError\u001b[0m                                 Traceback (most recent call last)",
      "Cell \u001b[1;32mIn[26], line 1\u001b[0m\n\u001b[1;32m----> 1\u001b[0m display(\u001b[39mlen\u001b[39m(listOfFileNames))\n\u001b[0;32m      3\u001b[0m display(\u001b[39mlen\u001b[39m(outputLabels))\n\u001b[0;32m      5\u001b[0m display(outputLabels[\u001b[39m4000\u001b[39m])\n",
      "\u001b[1;31mNameError\u001b[0m: name 'listOfFileNames' is not defined"
     ]
    }
   ],
   "source": [
    "display(len(listOfFileNames))\n",
    "\n",
    "display(len(outputLabels))\n",
    "\n",
    "display(outputLabels[4000])\n",
    "\n",
    "display(listOfFileNames[0])"
   ]
  },
  {
   "cell_type": "code",
   "execution_count": null,
   "id": "92dc115d-dee0-4769-8b24-42087e797a5b",
   "metadata": {
    "collapsed": true,
    "jupyter": {
     "outputs_hidden": true
    }
   },
   "outputs": [],
   "source": [
    "# d. Extra: implementeer bovenstaande via een Dataset en DataLoader class\n",
    "#           (zie https://pytorch.org/docs/stable/data.html voor verdere details)\n"
   ]
  },
  {
   "cell_type": "code",
   "execution_count": null,
   "id": "62bb3bd0-0b02-4254-a66f-93983e623c61",
   "metadata": {},
   "outputs": [],
   "source": [
    "# imageTensors = [ plt.imread(pic).astype(np.float32) for pic in listOfFileNames ]\n",
    "# eigenlijk zijn dit geen Tensors maar np arrays die via een transpose in de goede volgorde worden geplaatst!\n",
    "\n",
    "# imageTensors = [ plt.imread(pic).astype(np.float32).transpose(-1, 0, 1) / 255. for pic in listOfFileNames ]\n",
    "# nrOfImages = len(imageTensors)\n",
    "\n",
    "# imageTensors = [ plt.imread(pic).astype(np.float32).transpose(-1, 0, 1) / 255. for pic in listOfFileNames ]\n",
    "# torchvision.io.read_image(image_path, mode=ImageReadMode.UNCHANGED).to(torch.float32)\n",
    "\n",
    "\n",
    "# type(imageTensors)\n",
    "# outputLabelsArray = np.asarray(outputLabels)\n",
    "\n",
    "\n",
    "# full_dataset = []\n",
    "# for i in range(len(imageTensors)):\n",
    "#    full_dataset.append([imageTensors[i], outputLabelsArray[i]])\n",
    "\n",
    "\n",
    "# print(imageTensors[0].shape)\n",
    "# print(type(imageTensors[0]))\n",
    "# print(full_dataset[0][0])"
   ]
  },
  {
   "cell_type": "code",
   "execution_count": null,
   "id": "6b9885e1-d370-4b8d-8167-7903ca101a00",
   "metadata": {},
   "outputs": [],
   "source": [
    "full_dataset = []\n",
    "for i in range(len(listOfTensors)):\n",
    "   full_dataset.append([listOfTensors[i], outputLabels[i]])\n",
    "\n",
    "train_size = int(0.8 * len(full_dataset))\n",
    "test_size = len(full_dataset) - train_size\n",
    "train_dataset, test_dataset = torch.utils.data.random_split(full_dataset, [train_size, test_size])\n",
    "\n",
    "trainloader = torch.utils.data.DataLoader(train_dataset, shuffle=True, batch_size=32)\n",
    "i1, l1 = next(iter(trainloader))\n",
    "print(i1.shape)\n",
    "# imageTensors.shape\n",
    "\n",
    "testloader = torch.utils.data.DataLoader(test_dataset, shuffle=True, batch_size=32)\n",
    "i2, l2 = next(iter(trainloader))\n",
    "print(i2.shape)\n",
    "# imageTensors.shape\n",
    "\n",
    "print(train_dataset[0][0])"
   ]
  },
  {
   "cell_type": "code",
   "execution_count": null,
   "id": "f8669a1b-6e8e-4599-9400-1e7b71b6d97e",
   "metadata": {
    "collapsed": true,
    "jupyter": {
     "outputs_hidden": true
    }
   },
   "outputs": [],
   "source": [
    "# aantal experimenten op andere manieren "
   ]
  },
  {
   "cell_type": "code",
   "execution_count": null,
   "id": "ba421100-675a-47ae-aded-bb2ddb83bd80",
   "metadata": {
    "collapsed": true,
    "jupyter": {
     "outputs_hidden": true
    }
   },
   "outputs": [],
   "source": [
    "# alternatief 1: gebruik utils.data.Tensordataset om er direct Tensors van te maken\n",
    "# deze methode gaf foutmeldingen en is daarom niet verder uitgewerkt\n",
    "\n",
    "import torch.utils.data as data_utils\n",
    "\n",
    "# dataset = data_utils.TensorDataset(train_feat, train_labels)\n",
    "# train_loader = data_utils.DataLoader(dataset, batch_size=7, shuffle=True)\n",
    "\n",
    "dataset = data_utils.TensorDataset(imageTensors, outputLabels)\n",
    "# train_loader = data_utils.DataLoader(dataset, batch_size=7, shuffle=True)\n"
   ]
  },
  {
   "cell_type": "code",
   "execution_count": null,
   "id": "8d21b530-736b-4fed-93db-1eed07c5710e",
   "metadata": {
    "collapsed": true,
    "jupyter": {
     "outputs_hidden": true
    }
   },
   "outputs": [],
   "source": [
    "# alternatief 2: \n",
    "\n",
    "# create the dataset class\n",
    "class LandDataset(Dataset):\n",
    " def __init__(self, directory, Label):\n",
    " self.data = self.load_images(directory)\n",
    " self.labels = [Label] * len(self.data) # Assigning the same label (0) to all industrial images\n",
    " def __len__(self):\n",
    " return len(self.data)\n",
    " def __getitem__(self, index):\n",
    " image = self.data[index]\n",
    " label = self.labels[index]\n",
    " return image, label\n",
    " \n",
    " def load_images(self, directory):\n",
    " image_files = listdir(directory)\n",
    " data = []\n",
    " for file in image_files:\n",
    " image_path = path.join(directory, file)\n",
    " image = torchvision.io.read_image(image_path, mode=ImageReadMode.UNCHANGED).to(torch.float32)\n",
    " data.append(image)\n",
    " return data\n",
    "\n",
    " \n",
    " \n",
    "\n",
    "# use the class to create a set for both types, from the 'global directories, add the labels\n",
    "forestDataset = LandDataset(forestDirectory, [0,1])\n",
    "industrialDataset = LandDataset(industrialDirectory, [1,0])\n",
    "# Concatenate the datasets into a single dataset\n",
    "dataset = torch.utils.data.ConcatDataset([forestDataset, industrialDataset])\n"
   ]
  },
  {
   "cell_type": "code",
   "execution_count": null,
   "id": "f6ac1dfa-c273-45e3-a3d8-38c27d995716",
   "metadata": {
    "collapsed": true,
    "jupyter": {
     "outputs_hidden": true
    }
   },
   "outputs": [],
   "source": [
    "# alternatief 3:\n",
    "\n",
    "from torchvision.datasets import ImageFolder \n",
    "# The ImageFolder class in torchvision expects the data to be organized in separate folders,\n",
    "# where each folder represents a different class\n",
    "\n",
    " \n",
    "\n",
    "dataset_path = \"./data/EuroSat/\"\n",
    "transform = ToTensor()\n",
    "dataset = ImageFolder(dataset_path, transform=transform)\n",
    "\n",
    " \n",
    "\n",
    "dataset.class_to_idx\n",
    "\n",
    " \n",
    "\n",
    "forest_industrial_dataset = torch.utils.data.Subset(dataset, [1,4])\n",
    "\n",
    "https://pytorch.org/vision/stable/generated/torchvision.datasets.ImageFolder.html?highlight=imagefolder#torchvision.datasets.ImageFolder"
   ]
  },
  {
   "cell_type": "code",
   "execution_count": null,
   "id": "6b0bf892-90e1-421b-9e30-95e441e36688",
   "metadata": {
    "collapsed": true,
    "jupyter": {
     "outputs_hidden": true
    }
   },
   "outputs": [],
   "source": []
  },
  {
   "attachments": {},
   "cell_type": "markdown",
   "id": "213813ff-a44d-427f-bb16-661673e8a333",
   "metadata": {},
   "source": [
    "### Opdracht 6: CNN ontwerpen\n",
    "\n",
    "We kunnen een convolutional neural net opbouwen met convolutie, pooling en fully connected lagen. Hieronder definiëren we een topologie om een afbeeldingen van 32 x 32 te onderscheiden.\n",
    "\n",
    "De topologie is gebaseerd op de blog post 'A simple CNN with Pytorch'. Dus zie het artikel voor extra details."
   ]
  },
  {
   "cell_type": "code",
   "execution_count": null,
   "id": "45dbd4a4-56e8-473b-8ea1-9c63f4b11de8",
   "metadata": {},
   "outputs": [],
   "source": [
    "# om relu aan te kunnen roepen moet bovenaan het notebook as F aangepast worden in as TF\n",
    "# hier vervolgens F toevoegen om F.relu te kunnen gebruiken\n",
    "\n",
    "from torch.nn import functional as F"
   ]
  },
  {
   "cell_type": "code",
   "execution_count": null,
   "id": "27a84b2a-3058-459d-8fb5-3fe8d0a7b216",
   "metadata": {},
   "outputs": [],
   "source": [
    "#-------------------------------------------------------\n",
    "\n",
    "class CNN(nn.Module):\n",
    "    \n",
    "    #-------------------------------------------------------\n",
    "    \n",
    "    # Hier worden de klasses aangemaakt en dus uit nn en niet uit nn.functional\n",
    "    def __init__(self):\n",
    "        \n",
    "        # Because we inherit from Module base class\n",
    "        super().__init__()\n",
    "        \n",
    "        # RGB input, 6 filters, kernel of 5 x 5\n",
    "        # met 3 input kanalen en 6 output kanalen (zelf gekozen) en een kernel van 5 (dat is 3,5,5)\n",
    "        # 6 varianten zijn geen kleuren meer maar feature maps met C,H,W = 6x60x60 want 65-5+1 (-kernel size +1)\n",
    "        self.conv1 = nn.Conv2d(3, 6, 5)\n",
    "        \n",
    "        # Filter is 2 x 2 with a stride of 2 (defined once, used two times)\n",
    "        # met grootte van 2 en stride van 2 dus je halveert \n",
    "        self.pool = nn.MaxPool2d(2, 2)\n",
    "        \n",
    "        # in_channels = 6 because self.conv1 output has 6 channels\n",
    "        self.conv2 = nn.Conv2d(6, 16, 5)\n",
    "        \n",
    "        # Hieronder begint de classificatie:\n",
    "        # Fully connected layer matched on output of conv2 layer\n",
    "        # self.fc1 = nn.Linear(16 * 5 * 5, 120)\n",
    "        self.fc1 = nn.Linear(16 * 13 * 13, 120) # waarbij 120 zelf gekozen\n",
    "        \n",
    "        # Fully connected layer\n",
    "        self.fc2 = nn.Linear(120, 84) # waarbij 120 gelijk aan de vorige laag en 84 zelf gekozen\n",
    "        \n",
    "        # We only have 2 labels\n",
    "        self.fc3 = nn.Linear(84, 2) # warbij 84 gelijk aan de vorige laag en 2 je label klasses 0 en 1 zijn.\n",
    "        \n",
    "        # let op dat je 13 x 13 die erin gaat meer zegt dan je origineel van 64 x 64 omdat je er eigenschappen uit gefilterd hebt die iets zeggen\n",
    "        \n",
    "        # merk op dat het in alle lagen fully connected kan maar dat is heel veel rekenwerk en ws niet zo nauwkeurig\n",
    "        \n",
    "    #-------------------------------------------------------\n",
    "    # Hier worden de klasses aangeroepen met x = C * H * W = 3,64,64    \n",
    "    def forward(self, x):\n",
    "        \n",
    "        # Convolution with relu layers\n",
    "        # van binnen naar buiten doe je convolutie, relu en pooling \n",
    "       \n",
    "        x = self.pool(F.relu(self.conv1(x)))\n",
    "         # na conv is het 6,60,60\n",
    "        # na pooling is het 6,30,30\n",
    "        \n",
    "        x = self.pool(F.relu(self.conv2(x)))\n",
    "        # na conv is het 16,26,26\n",
    "        # na pooling 16,13,13 en dit is de representatie gemaakt door je encoder\n",
    "        \n",
    "        # vanaf hier is het fully connected en dit deel is je classifier:\n",
    "        \n",
    "        # To match the output of the conv2 layer onto the first fully connected layer\n",
    "        # Like reshape() but makes no copy (reuses underlaying data)\n",
    "        # x = x.view(-1, 16 * 5 * 5)\n",
    "        x = x.view(-1, 16 * 13 * 13)\n",
    "        \n",
    "        # Fully connected layers\n",
    "        x = F.relu(self.fc1(x))\n",
    "        x = F.relu(self.fc2(x))\n",
    "        \n",
    "        # No activation on final layer \n",
    "        return F.softmax(self.fc3(x), dim=1) # geeft de ruwe activatie (2 getallen) en dat kan je in een % uitdrukken dmv softmax: die geeft twee getallen tussen 0 en 1 en die samen 1 geven. Gebruik BCE Loss: BinaryCrossEntropy() met als result bijvoorbeeld 0.7 voor 0 en 0.3 voor 1 \n",
    "\n",
    "#-------------------------------------------------------"
   ]
  },
  {
   "cell_type": "code",
   "execution_count": null,
   "id": "bc92ce0d-21bf-417a-b296-f9efa4610e09",
   "metadata": {},
   "outputs": [],
   "source": [
    "\n",
    "\n"
   ]
  },
  {
   "attachments": {},
   "cell_type": "markdown",
   "id": "3248f8b9-64b2-4cf4-ab9f-bcc74c8076db",
   "metadata": {},
   "source": [
    "### Opdracht 7: CNN trainen\n",
    "\n",
    "Het trainen van een CNN is identiek aan het trainen van een fully connected (a.k.a. dense) netwerk."
   ]
  },
  {
   "attachments": {},
   "cell_type": "markdown",
   "id": "20b5cc5e-3a36-4f68-9b86-cedbf17f54fb",
   "metadata": {
    "tags": []
   },
   "source": [
    "# a. Ga voor jezelf na welke stappen een typisch trainingsproces bevat\n",
    "\n",
    "- data prepareren en invoeren (dataset en dataloader)\n",
    "- forward propagation\n",
    "- evaluate: compare outcome with labels\n",
    "- calculate loss and use it for back propagation (adjusting the weights)\n",
    "- forward propagation etc.\n",
    "- number of epochs until finsihed\n",
    "\n",
    "Then:\n",
    "- test with test data\n",
    "\n",
    "\n",
    "# b. Bekijk de blog post 'A simple CNN in Python' en zet de training op\n",
    "\n",
    "# c. Het voorbeeld bevat geen validatie tijdens de trainingsstap (epoch)\n",
    "\n",
    "#    - Bekijk het Notebook met de de postcode FastScan\n",
    "#      en bereid de training uit met validatie in de trainingsloop"
   ]
  },
  {
   "cell_type": "code",
   "execution_count": null,
   "id": "90ca320b-e4a1-4b64-9a0b-9011b0da0b33",
   "metadata": {
    "collapsed": true,
    "jupyter": {
     "outputs_hidden": true
    }
   },
   "outputs": [],
   "source": [
    "# een goed voorbeeld kan hier gevonden worden:\n",
    "# https://machinelearningmastery.com/training-a-pytorch-model-with-dataloader-and-dataset/"
   ]
  },
  {
   "cell_type": "code",
   "execution_count": null,
   "id": "70ad5675-b508-4163-9e50-6eeacafb9d00",
   "metadata": {},
   "outputs": [],
   "source": [
    "import torch.optim as optim\n",
    "from torch.utils.data import Dataset, DataLoader, random_split, default_collate"
   ]
  },
  {
   "cell_type": "code",
   "execution_count": null,
   "id": "02c4848c-e903-444c-8965-1b5ebd7d74fe",
   "metadata": {},
   "outputs": [],
   "source": [
    "model = CNN()\n",
    "\n",
    "device=torch.device('cuda:0' if torch.cuda.is_available() else 'cpu')\n",
    "\n",
    "print(device)\n",
    "from torchsummary import summary\n",
    "summary(model.to(device), input_size=(3,64,64))\n",
    "\n"
   ]
  },
  {
   "cell_type": "code",
   "execution_count": null,
   "id": "fe3a03c7-8cfa-46f9-b5d4-069d6d6f4b80",
   "metadata": {},
   "outputs": [],
   "source": [
    "for X_batch, y_batch in trainloader:\n",
    "    # print(X_batch[0])\n",
    "    # print(y_batch[0])\n",
    "    pass\n",
    "\n",
    "# x = model(train_dataset[0][0])\n",
    "\n",
    "x = model(torch.Tensor(train_dataset[0][0]))\n",
    "\n",
    "print(x)\n",
    "print(train_dataset[0][1])\n",
    "\n",
    "print(x - train_dataset[0][1])"
   ]
  },
  {
   "cell_type": "code",
   "execution_count": null,
   "id": "7019e8e5-d11f-4e7c-9c4d-0da0990b0c18",
   "metadata": {},
   "outputs": [],
   "source": [
    "# Train the model\n",
    "n_epochs = 3                                                # epochs\n",
    "totalLoss = [] # for viz purposes\n",
    "loss_fn = nn.BCELoss()                                         # Loss function\n",
    "optimizer = optim.SGD(model.parameters(), lr=0.001)             #optimizer          #Learnrate\n",
    "model.train() # wat doet deze functie? zet model in train modus\n",
    "\n",
    "for epoch in range(n_epochs):\n",
    "    print(epoch)\n",
    "    losses = []\n",
    "    \n",
    "    for X_batch, y_batch in trainloader:\n",
    "        y_pred = model(X_batch)\n",
    "        loss = loss_fn(y_pred, y_batch)\n",
    "        loss_values.append(loss.item()) # for viz purposes\n",
    "        optimizer.zero_grad()\n",
    "        loss.backward()\n",
    "        optimizer.step()\n",
    "        losses.append(loss.item())\n",
    "\n",
    "    totalLoss.append(sum(losses)/len(trainloader))\n",
    "    # acc = (y_pred.round() == y_batch).float().mean()\n",
    "    acc = (y_pred.round() == y_batch).float().mean()\n",
    "    acc = float(acc)\n",
    "    print(\"Model accuracy: %.2f%%\" % (acc*100))\n",
    "        \n",
    " \n",
    "    # create one test tensor from the testset\n",
    "    X_test, y_test = default_collate(test_dataset)\n",
    "    model.eval()\n",
    "    y_pred = model(X_test)\n",
    "    print(y_pred)\n",
    "    acc = (y_pred.round() == y_test).float().mean()\n",
    "    acc = float(acc)\n",
    "    print(\"Model accuracy: %.2f%%\" % (acc*100))\n",
    "\n",
    "\n"
   ]
  },
  {
   "cell_type": "code",
   "execution_count": null,
   "id": "d9eeb831-a912-4383-a242-6ec55afb3148",
   "metadata": {},
   "outputs": [],
   "source": [
    "\n",
    "fig, ax = plt.subplots()\n",
    "ax.set(xlabel='Epoch', ylabel='Loss', title=\"Training Loss\")\n",
    "\n",
    "# plt.plot([x for x in range(epochs)], losses, 'red')\n",
    "# plt.plot([x in], losses, 'red')\n",
    "plt.plot(totalLoss, 'red')\n",
    "plt.show()\n"
   ]
  },
  {
   "attachments": {},
   "cell_type": "markdown",
   "id": "e503bc56-46d6-4e15-8d91-d7784edc5e2b",
   "metadata": {},
   "source": [
    "### Opdracht 8: dropout toevoegen\n",
    "\n",
    "Om het netwerk effectiever te trainen wordt dropout toegepast.\n",
    "\n",
    "PyTorch maakt het toevoegen van dropout makkelijk."
   ]
  },
  {
   "cell_type": "code",
   "execution_count": null,
   "id": "f4d98c7a-3358-4937-8bc0-fd8b003121c9",
   "metadata": {
    "collapsed": true,
    "jupyter": {
     "outputs_hidden": true
    },
    "tags": []
   },
   "outputs": [],
   "source": [
    "# a. Bekijk het artikel Using Dropout Regularization in PyTorch Models (zie sources)\n",
    "\n",
    "# b. Pas nu dropout toe op een hidden layer van je model\n",
    "\n",
    "# c. Hertrain je model\n",
    "\n",
    "#    - Let er op dat je je model evalueert in eval() mode\n",
    "#    - Heeft de dropout invloed op de accuracy van je model?"
   ]
  },
  {
   "attachments": {},
   "cell_type": "markdown",
   "id": "f91aa1cc-60c9-481b-9d66-3ab359b7422a",
   "metadata": {},
   "source": [
    "### Reflectie\n",
    "\n",
    "- Wat gebeurt er als de dropout groot is (bijvoobeeld 0.9)?"
   ]
  },
  {
   "attachments": {},
   "cell_type": "markdown",
   "id": "b682a804-e1f7-4b9d-a3fe-2de933c32f44",
   "metadata": {},
   "source": [
    "### Bronnen\n",
    "\n",
    "[EuroSAT project](https://github.com/phelber/eurosat)\n",
    "\n",
    "[Pytorch Neural Nets](https://pytorch.org/docs/stable/nn.html)\n",
    "\n",
    "[Kernels](https://en.wikipedia.org/wiki/Kernel_(image_processing))\n",
    "\n",
    "[A simple CNN with Pytorch](https://tomroth.com.au/pytorch-cnn)\n",
    "\n",
    "[A guide to convolution arithmetic for deep learning](https://arxiv.org/pdf/1603.07285.pdf)\n",
    "\n",
    "[Using Dropout Regularization in PyTorch Models](https://machinelearningmastery.com/using-dropout-regularization-in-pytorch-models)"
   ]
  }
 ],
 "metadata": {
  "kernelspec": {
   "display_name": "Python 3 (ipykernel)",
   "language": "python",
   "name": "python3"
  },
  "language_info": {
   "codemirror_mode": {
    "name": "ipython",
    "version": 3
   },
   "file_extension": ".py",
   "mimetype": "text/x-python",
   "name": "python",
   "nbconvert_exporter": "python",
   "pygments_lexer": "ipython3",
   "version": "3.10.11"
  }
 },
 "nbformat": 4,
 "nbformat_minor": 5
}
