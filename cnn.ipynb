{
 "cells": [
  {
   "cell_type": "code",
   "execution_count": 1,
   "metadata": {},
   "outputs": [],
   "source": [
    "import numpy as np\n",
    "from keras.models import Sequential\n",
    "from keras.layers import MaxPooling2D"
   ]
  },
  {
   "cell_type": "code",
   "execution_count": 14,
   "metadata": {},
   "outputs": [
    {
     "name": "stdout",
     "output_type": "stream",
     "text": [
      "1/1 [==============================] - 0s 43ms/step\n",
      "[[ 8  4 10]\n",
      " [ 6  4  8]\n",
      " [ 7  9  9]]\n"
     ]
    }
   ],
   "source": [
    "\n",
    "# define input image\n",
    "image = np.array([[8, 4, 2, 3, 9, 1],\n",
    "\t\t\t\t[0, 6, 4, 3, 7, 10],\n",
    "\t\t\t\t[2, 0, 1, 3, 5, 8],\n",
    "                [6, 3, 1, 4, 8, 2],\n",
    "                [0, 2, 4, 3, 5, 9],\n",
    "\t\t\t\t[2, 7, 9, 1, 3, 5]])\n",
    "image = image.reshape(1, 6, 6, 1)\n",
    "\n",
    "# define model containing just a single max pooling layer\n",
    "model = Sequential(\n",
    "\t[MaxPooling2D(pool_size = 2, strides = 2)])\n",
    "\n",
    "# generate pooled output\n",
    "output = model.predict(image)\n",
    "\n",
    "# print output image\n",
    "output = np.squeeze(output)\n",
    "print(output)\n"
   ]
  }
 ],
 "metadata": {
  "kernelspec": {
   "display_name": "env",
   "language": "python",
   "name": "python3"
  },
  "language_info": {
   "codemirror_mode": {
    "name": "ipython",
    "version": 3
   },
   "file_extension": ".py",
   "mimetype": "text/x-python",
   "name": "python",
   "nbconvert_exporter": "python",
   "pygments_lexer": "ipython3",
   "version": "3.10.11"
  },
  "orig_nbformat": 4
 },
 "nbformat": 4,
 "nbformat_minor": 2
}
